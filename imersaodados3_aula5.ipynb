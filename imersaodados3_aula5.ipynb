{
  "nbformat": 4,
  "nbformat_minor": 0,
  "metadata": {
    "colab": {
      "name": "imersaodados3_aula5.ipynb",
      "provenance": [],
      "collapsed_sections": [],
      "authorship_tag": "ABX9TyOCwoV5bUONT8CJ92hBWaBw",
      "include_colab_link": true
    },
    "kernelspec": {
      "name": "python3",
      "display_name": "Python 3"
    },
    "language_info": {
      "name": "python"
    }
  },
  "cells": [
    {
      "cell_type": "markdown",
      "metadata": {
        "id": "view-in-github",
        "colab_type": "text"
      },
      "source": [
        "<a href=\"https://colab.research.google.com/github/leonardo-melniski/imersaodados-3/blob/main/imersaodados3_aula5.ipynb\" target=\"_parent\"><img src=\"https://colab.research.google.com/assets/colab-badge.svg\" alt=\"Open In Colab\"/></a>"
      ]
    },
    {
      "cell_type": "code",
      "metadata": {
        "id": "qtdh9Fe-f_EZ"
      },
      "source": [
        ""
      ],
      "execution_count": null,
      "outputs": []
    },
    {
      "cell_type": "markdown",
      "metadata": {
        "id": "o0Tj_SYXgDNi"
      },
      "source": [
        "# Aula 5: Machine learning, sci-kit learning e desafios envolvidos.\n",
        "\n",
        "Nesta aula, finalmente vamos criar o modelo de **Machine Learning** para classificar um novo composto com o intuito de prever se o MoA foi ativado ou não. Para isso, vamos usar a famosa biblioteca [scikit-learn](https://scikit-learn.org/stable/modules/generated/sklearn.linear_model.LinearRegression.html) para testar a **regressão logística** e entender o funcionamento de uma árvore de decisão (AD). Além disso, discutiremos problemas **importantes** como o **overfit**.\n",
        "\n"
      ]
    },
    {
      "cell_type": "markdown",
      "metadata": {
        "id": "JoQ5wizhg8v0"
      },
      "source": [
        "## Links extras bacanas\n",
        "\n",
        "- Assista esse [vídeo](https://www.youtube.com/watch?v=K6HmoMnqeI8) para entender mais sobre o Overfit\n",
        "\n",
        "- Quer entender como funciona o [Machine Learning](https://www.youtube.com/watch?v=CAu97npy7zQ)?\n",
        "\n",
        "- Que tal conhecer como é trabalhar com [Machine Learning na Europa](https://www.youtube.com/watch?v=dFLrwi4Oz_o&t=1s)?\n",
        "\n",
        "- [Otimização de hiperparâmetros](https://www.alura.com.br/artigos/otimizacao-de-parametros?utm_source=gnarus&utm_medium=timeline)"
      ]
    }
  ]
}