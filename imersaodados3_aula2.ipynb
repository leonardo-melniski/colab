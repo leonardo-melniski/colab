{
  "nbformat": 4,
  "nbformat_minor": 0,
  "metadata": {
    "colab": {
      "name": "imersaodados3_aula2.ipynb",
      "provenance": [],
      "authorship_tag": "ABX9TyOYR+ev1h9ISsveTc3oAPS/",
      "include_colab_link": true
    },
    "kernelspec": {
      "name": "python3",
      "display_name": "Python 3"
    },
    "language_info": {
      "name": "python"
    }
  },
  "cells": [
    {
      "cell_type": "markdown",
      "metadata": {
        "id": "view-in-github",
        "colab_type": "text"
      },
      "source": [
        "<a href=\"https://colab.research.google.com/github/leonardo-melniski/imersaodados-3/blob/main/imersaodados3_aula2.ipynb\" target=\"_parent\"><img src=\"https://colab.research.google.com/assets/colab-badge.svg\" alt=\"Open In Colab\"/></a>"
      ]
    },
    {
      "cell_type": "markdown",
      "metadata": {
        "id": "ofguILtyl3B7"
      },
      "source": [
        "# Imersão Dados\n",
        "## 2 Estatísticas, Visualização de dados e distribuições\n",
        "\n",
        "Nesta aula aprenderemos a plotar e estilizar gráficos com as bibliotecas **seaborn** e **matplotlib**, utilizando recursos de seleção e tratamentos nos dados. Conhecemos o **histograma** para visualizar a média dos genes, utilizando a função **describe** para descrever estatisticamente os dados. Por fim, entendemos o **boxplot** e como tratar os **outliers**.\n",
        "\n",
        "\n",
        "Para dar um mergulho ainda mais profundo, dê uma olhada nas documentações do [seaborn](https://seaborn.pydata.org/) e [matplotlib](https://matplotlib.org/), não esquecendo de também conferir os artigos sobre [histogramas](https://www.alura.com.br/artigos/o-que-e-um-histograma?utm_source=gnarus&utm_medium=timeline), a função [describe](https://www.alura.com.br/artigos/ampliando-a-analise-com-describe) e [boxplot](https://www.alura.com.br/artigos/melhorando-a-analise-com-o-boxplot)."
      ]
    },
    {
      "cell_type": "code",
      "metadata": {
        "id": "Zhoknoepk2ck"
      },
      "source": [
        "import pandas as pd\n",
        "url_dados = 'https://github.com/alura-cursos/imersaodados3/blob/main/dados/dados_experimentos.zip?raw=true'\n",
        "dados = pd.read_csv(url_dados, compression = 'zip')"
      ],
      "execution_count": 1,
      "outputs": []
    },
    {
      "cell_type": "code",
      "metadata": {
        "id": "qxz0aGNal0Ji"
      },
      "source": [
        ""
      ],
      "execution_count": null,
      "outputs": []
    }
  ]
}